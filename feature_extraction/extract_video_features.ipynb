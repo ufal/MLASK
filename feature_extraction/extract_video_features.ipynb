{
 "cells": [
  {
   "cell_type": "code",
   "execution_count": null,
   "id": "e1c05c60-0ea7-4af5-9090-88129534121e",
   "metadata": {
    "tags": []
   },
   "outputs": [],
   "source": [
    "import sys\n",
    "from pathlib import Path\n",
    "\n",
    "import numpy as np\n",
    "import torch\n",
    "\n",
    "from torch.utils.data import DataLoader\n",
    "from torchvision.transforms import Compose\n",
    "from einops.layers.torch import Rearrange"
   ]
  },
  {
   "cell_type": "code",
   "execution_count": null,
   "id": "50dc3e4c-3236-4d3d-8f40-1510320c4048",
   "metadata": {},
   "outputs": [],
   "source": [
    "# Check if GPU is available\n",
    "if torch.cuda.is_available():\n",
    "    device = torch.device(\"cuda\")\n",
    "else:\n",
    "    device = torch.device(\"cpu\")"
   ]
  },
  {
   "cell_type": "code",
   "execution_count": null,
   "id": "0fd8a827-582e-4113-8e39-c0a5a6ed28f8",
   "metadata": {
    "tags": []
   },
   "outputs": [],
   "source": [
    "# Downlaod a sample video\n",
    "! wget https://github.com/yt-dlp/yt-dlp/releases/latest/download/yt-dlp\n",
    "! chmod +x yt-dlp\n",
    "\n",
    "! ./yt-dlp https://www.youtube.com/watch?v=rEq1Z0bjdwc -f \"best[height<=720]\" -o video.mp4 --downloader-args \"ffmpeg:-filter:v fps=25 -vcodec h264\""
   ]
  },
  {
   "cell_type": "code",
   "execution_count": null,
   "id": "012235e3-a558-4b41-b81d-5019834c7081",
   "metadata": {
    "tags": []
   },
   "outputs": [],
   "source": [
    "# Clone relevant repositories\n",
    "! git clone https://github.com/moabitcoin/ig65m-pytorch.git ig65m\n",
    "! git clone https://github.com/antoine77340/S3D_HowTo100M.git s3d"
   ]
  },
  {
   "cell_type": "code",
   "execution_count": null,
   "id": "33911f31-68d2-4c04-878d-bcc929e7e1fa",
   "metadata": {
    "tags": []
   },
   "outputs": [],
   "source": [
    "# Download model weights\n",
    "! wget https://www.rocq.inria.fr/cluster-willow/amiech/howto100m/s3d_howto100m.pth\n",
    "! wget https://www.rocq.inria.fr/cluster-willow/amiech/howto100m/s3d_dict.npy"
   ]
  },
  {
   "cell_type": "code",
   "execution_count": null,
   "id": "fe181ddb-64f6-4c9a-b501-37dbf28b8e8e",
   "metadata": {
    "tags": []
   },
   "outputs": [],
   "source": [
    "# Extract R(2+1)D-IG65M features and load them into python\n",
    "! cd ig65m/ && python -m ig65m.cli extract ../video.mp4 ../video.npy --frame-size 112\n",
    "\n",
    "if65m_features = np.load(\"video.npy\")"
   ]
  },
  {
   "cell_type": "code",
   "execution_count": null,
   "id": "8e533e10-9f6c-4508-831b-5cf51485aca5",
   "metadata": {
    "tags": []
   },
   "outputs": [],
   "source": [
    "# Extract S3D_HowTo100M features\n",
    "from s3d.s3dg import S3D\n",
    "# Instantiate the model\n",
    "s3d_net = S3D('s3d_dict.npy', 512)\n",
    "# Load the model weights\n",
    "s3d_net.load_state_dict(torch.load('s3d_howto100m.pth'))\n",
    "s3d_net.eval()\n",
    "s3d_net = s3d_net.to(device)"
   ]
  },
  {
   "cell_type": "code",
   "execution_count": null,
   "id": "43f6a962-192b-479c-b256-d28f42753855",
   "metadata": {
    "tags": []
   },
   "outputs": [],
   "source": [
    "# Define video processing pipeline\n",
    "from ig65m.ig65m.datasets import VideoDataset\n",
    "from ig65m.ig65m.transforms import ToTensor, Resize, Normalize\n",
    "\n",
    "transform_how100 = Compose([\n",
    "    ToTensor(),\n",
    "    Rearrange(\"t h w c -> c t h w\"),\n",
    "    Resize([224, 224]),\n",
    "])\n",
    "\n",
    "vd = VideoDataset(Path(\"video.mp4\"), clip=32, transform=transform_how100)\n",
    "vd = DataLoader(vd, batch_size=1, num_workers=1, shuffle=False)"
   ]
  },
  {
   "cell_type": "code",
   "execution_count": null,
   "id": "a3eb4fbe-f4f2-4ce2-abe8-cce9d4ffd908",
   "metadata": {
    "tags": []
   },
   "outputs": [],
   "source": [
    "features = []\n",
    "for _input in vd:\n",
    "    s3d_features = s3d_net(_input.to(device))[\"video_embedding\"].data.cpu().numpy()\n",
    "    features.append(s3d_features.flatten())\n",
    "s3d_features = np.stack(features)"
   ]
  },
  {
   "cell_type": "code",
   "execution_count": null,
   "id": "eef7f212-bd24-49ff-877d-e76a413ab2d7",
   "metadata": {
    "tags": []
   },
   "outputs": [],
   "source": [
    "# Check the expected feature shape\n",
    "assert if65m_features.shape == (13, 512)\n",
    "assert s3d_features.shape == (13, 512)"
   ]
  },
  {
   "cell_type": "code",
   "execution_count": null,
   "id": "0292f068-0482-4ff8-8bd8-0efcda6cba88",
   "metadata": {
    "tags": []
   },
   "outputs": [],
   "source": [
    "# Remove the downlaoded files and repos\n",
    "! rm -rf video.mp4 video.npy yt-dlp s3d_howto100m.pth s3d_dict.npy ig65m s3d"
   ]
  }
 ],
 "metadata": {
  "kernelspec": {
   "display_name": "Python 3 (ipykernel)",
   "language": "python",
   "name": "python3"
  },
  "language_info": {
   "codemirror_mode": {
    "name": "ipython",
    "version": 3
   },
   "file_extension": ".py",
   "mimetype": "text/x-python",
   "name": "python",
   "nbconvert_exporter": "python",
   "pygments_lexer": "ipython3",
   "version": "3.9.16"
  }
 },
 "nbformat": 4,
 "nbformat_minor": 5
}
